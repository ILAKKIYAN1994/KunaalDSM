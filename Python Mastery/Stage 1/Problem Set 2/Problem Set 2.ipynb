{
 "cells": [
  {
   "cell_type": "markdown",
   "id": "8753c9af-1667-4bc8-b480-b5dbcc5b1fe9",
   "metadata": {},
   "source": [
    "### **Data Types and Operations**"
   ]
  },
  {
   "cell_type": "markdown",
   "id": "1162a836-b18f-4f0e-97bd-2a48df32970f",
   "metadata": {},
   "source": [
    "#### **Problem 1: Sum of Two Numbers**"
   ]
  },
  {
   "cell_type": "markdown",
   "id": "9bd68d06-42a0-4b0a-bed4-8273e7d2b8b5",
   "metadata": {},
   "source": [
    "**Scenario:** You are tasked with calculating the sum of two integers."
   ]
  },
  {
   "cell_type": "markdown",
   "id": "eb524657-5b03-4900-b8db-8b392a840892",
   "metadata": {},
   "source": [
    "**Problem Statement:**  \n",
    "  Write a program that takes two integer inputs from the user and returns the sum."
   ]
  },
  {
   "cell_type": "markdown",
   "id": "810b8484-5211-422e-8d6a-76c5ecc2b465",
   "metadata": {},
   "source": [
    "**Hint:** Use the `+` operator to add the two integers."
   ]
  },
  {
   "cell_type": "code",
   "execution_count": null,
   "id": "18b17801-5d04-4deb-ab37-f22d46e95f79",
   "metadata": {},
   "outputs": [],
   "source": []
  },
  {
   "cell_type": "code",
   "execution_count": null,
   "id": "814589de-88bf-4161-a0a9-ae619f31821c",
   "metadata": {},
   "outputs": [],
   "source": []
  },
  {
   "cell_type": "markdown",
   "id": "4935faf9-7a1c-4771-ba95-58db0345158b",
   "metadata": {},
   "source": [
    "**Expected Output:**  \n",
    "  ```\n",
    "  Enter the first number: 5\n",
    "  Enter the second number: 7\n",
    "  The sum is: 12\n",
    "  ```"
   ]
  },
  {
   "cell_type": "markdown",
   "id": "f6359cd4-60c9-444e-8ebd-5e43c38c5aa0",
   "metadata": {},
   "source": [
    "**Starter Code:**\n",
    "  ```python\n",
    "  num1 = int(input(\"Enter the first number: \"))\n",
    "  num2 = int(input(\"Enter the second number: \"))\n",
    "  sum = num1 + num2\n",
    "  print(f\"The sum is: {sum}\")"
   ]
  },
  {
   "cell_type": "markdown",
   "id": "6082d6d2-d3a1-45f5-9a4e-37f7550ed1cd",
   "metadata": {},
   "source": [
    "*****************************************************************************************************"
   ]
  },
  {
   "cell_type": "markdown",
   "id": "78b1bdf5-35fe-491e-8675-8e156fe8523f",
   "metadata": {},
   "source": [
    "#### **Problem 2: Find the Product of Two Numbers**"
   ]
  },
  {
   "cell_type": "markdown",
   "id": "81d8eef3-f50d-441a-8f63-f2a81a1329f0",
   "metadata": {},
   "source": [
    "**Scenario:** You need to multiply two floating-point numbers."
   ]
  },
  {
   "cell_type": "markdown",
   "id": "7bff1b8d-6e62-4d8f-ae2c-dd8974388ee5",
   "metadata": {},
   "source": [
    "**Problem Statement:**  \n",
    "  Write a program that takes two float inputs from the user and returns their product."
   ]
  },
  {
   "cell_type": "markdown",
   "id": "5c572028-8618-45a5-928b-80071e93e1e2",
   "metadata": {},
   "source": [
    "- **Hint:** Use the `*` operator to multiply the two floats."
   ]
  },
  {
   "cell_type": "code",
   "execution_count": null,
   "id": "037f90da-6eec-4524-95d8-ebff0695c16f",
   "metadata": {},
   "outputs": [],
   "source": []
  },
  {
   "cell_type": "code",
   "execution_count": null,
   "id": "0242b0ca-4963-4176-8688-fca5d33dad4a",
   "metadata": {},
   "outputs": [],
   "source": []
  },
  {
   "cell_type": "markdown",
   "id": "666c3735-3df1-493b-8985-95b56ef72bc0",
   "metadata": {},
   "source": [
    "**Expected Output:**  \n",
    "  ```\n",
    "  Enter the first number: 3.5\n",
    "  Enter the second number: 2.4\n",
    "  The product is: 8.4"
   ]
  },
  {
   "cell_type": "markdown",
   "id": "f22dcf19-0303-467a-bbe4-0c982d8e8afa",
   "metadata": {},
   "source": [
    "**Starter Code:**\n",
    "  ```python\n",
    "  num1 = float(input(\"Enter the first number: \"))\n",
    "  num2 = float(input(\"Enter the second number: \"))\n",
    "  product = num1 * num2\n",
    "  print(f\"The product is: {product}\")"
   ]
  },
  {
   "cell_type": "markdown",
   "id": "28b05d3e-f244-4720-9afc-5d9e2e78454f",
   "metadata": {},
   "source": [
    "*****************************************************************************************************"
   ]
  },
  {
   "cell_type": "markdown",
   "id": "ce3354f4-cf4a-45ff-8289-5c8fa446b7ce",
   "metadata": {},
   "source": [
    "#### **Problem 3: Dividing Two Numbers**"
   ]
  },
  {
   "cell_type": "markdown",
   "id": "986c16a7-c548-4b6c-b169-b83c7914d792",
   "metadata": {},
   "source": [
    "**Scenario:** You are calculating the division of two numbers and need to handle division by zero."
   ]
  },
  {
   "cell_type": "markdown",
   "id": "23687659-16e1-4f39-a5a1-c1ba87083a03",
   "metadata": {},
   "source": [
    "**Problem Statement:**  \n",
    "  Write a program that divides two numbers, but handles division by zero by displaying an appropriate error message."
   ]
  },
  {
   "cell_type": "markdown",
   "id": "06faab67-e700-41df-9a19-acad5287664b",
   "metadata": {},
   "source": [
    "**Hint:** Use an `if` condition to check if the denominator is zero before performing division."
   ]
  },
  {
   "cell_type": "code",
   "execution_count": null,
   "id": "f4e68a01-d7d6-4b2a-99c4-061194e9fdb2",
   "metadata": {},
   "outputs": [],
   "source": []
  },
  {
   "cell_type": "code",
   "execution_count": null,
   "id": "46c8c43e-c7ba-4fe3-97bf-94ae5f03d2ac",
   "metadata": {},
   "outputs": [],
   "source": []
  },
  {
   "cell_type": "markdown",
   "id": "b6a6af79-f754-431b-b823-4e71240feb00",
   "metadata": {},
   "source": [
    "- **Expected Output:**  \n",
    "  ```\n",
    "  Enter the numerator: 10\n",
    "  Enter the denominator: 0\n",
    "  Error: Cannot divide by zero!"
   ]
  },
  {
   "cell_type": "markdown",
   "id": "b9ddb177-73e8-4a56-8024-7139bc5f1dcf",
   "metadata": {},
   "source": [
    "**Starter Code:**\n",
    "  ```python\n",
    "  num1 = float(input(\"Enter the numerator: \"))\n",
    "  num2 = float(input(\"Enter the denominator: \"))\n",
    "  if num2 == 0:\n",
    "      print(\"Error: Cannot divide by zero!\")\n",
    "  else:\n",
    "      result = num1 / num2\n",
    "      print(f\"The result is: {result}\")"
   ]
  },
  {
   "cell_type": "markdown",
   "id": "e6659781-ba6a-4362-8bc0-cc48945dbfe9",
   "metadata": {},
   "source": [
    "*****************************************************************************************************"
   ]
  },
  {
   "cell_type": "markdown",
   "id": "7b61a666-91f9-43ab-97e1-8c591b952f9b",
   "metadata": {},
   "source": [
    "#### **Problem 4: String Concatenation**"
   ]
  },
  {
   "cell_type": "markdown",
   "id": "c652f749-f881-44af-b9eb-d4848d339807",
   "metadata": {},
   "source": [
    "**Scenario:** You are working with user input to combine two strings."
   ]
  },
  {
   "cell_type": "markdown",
   "id": "19648a08-f633-4268-97f3-647f3a41f26c",
   "metadata": {},
   "source": [
    "**Problem Statement:**  \n",
    "  Write a program that takes two strings from the user and combines them into a single string."
   ]
  },
  {
   "cell_type": "markdown",
   "id": "6713f6b5-b09e-4b66-a6e3-9a3202a53264",
   "metadata": {},
   "source": [
    "**Hint:** Use the `+` operator to concatenate strings and add a space in between."
   ]
  },
  {
   "cell_type": "code",
   "execution_count": null,
   "id": "69eb0937-8c84-4f43-bcf0-aaef0c21bcf2",
   "metadata": {},
   "outputs": [],
   "source": []
  },
  {
   "cell_type": "code",
   "execution_count": null,
   "id": "3b423f8d-060e-4c0c-9d25-06a7bb9dcba6",
   "metadata": {},
   "outputs": [],
   "source": []
  },
  {
   "cell_type": "markdown",
   "id": "b16b7946-a149-49be-9faf-55a47fb556b9",
   "metadata": {},
   "source": [
    "**Expected Output:**  \n",
    "  ```\n",
    "  Enter the first string: Hello\n",
    "  Enter the second string: World\n",
    "  The concatenated string is: Hello World"
   ]
  },
  {
   "cell_type": "markdown",
   "id": "52625e48-dc6e-4b94-8980-baa363e8e6a3",
   "metadata": {},
   "source": [
    "**Starter Code:**\n",
    "  ```python\n",
    "  string1 = input(\"Enter the first string: \")\n",
    "  string2 = input(\"Enter the second string: \")\n",
    "  result = string1 + \" \" + string2\n",
    "  print(f\"The concatenated string is: {result}\")"
   ]
  },
  {
   "cell_type": "markdown",
   "id": "acbfbe24-c55e-47d4-9030-7dce1e95ea66",
   "metadata": {},
   "source": [
    "*****************************************************************************************************"
   ]
  },
  {
   "cell_type": "markdown",
   "id": "d62e5c74-a225-434c-bbe5-d04cb2a99851",
   "metadata": {},
   "source": [
    "#### **Problem 5: String Length**"
   ]
  },
  {
   "cell_type": "markdown",
   "id": "4e97eb4b-5128-4774-80ca-827a7446f0b2",
   "metadata": {},
   "source": [
    "**Scenario:** You need to find the length of a string entered by the user."
   ]
  },
  {
   "cell_type": "markdown",
   "id": "ba0dfcfc-caa3-4a9a-b0a4-aa3fe9ac1e21",
   "metadata": {},
   "source": [
    "**Problem Statement:**  \n",
    "  Write a program that takes a string input from the user and prints the length of that string."
   ]
  },
  {
   "cell_type": "markdown",
   "id": "14d05e81-0c9e-4479-8b74-1cd24dd56ffc",
   "metadata": {},
   "source": [
    "**Hint:** Use the built-in `len()` function to find the length of a string."
   ]
  },
  {
   "cell_type": "code",
   "execution_count": null,
   "id": "0e0a8669-de72-4d9f-8ae1-b9646e01b76b",
   "metadata": {},
   "outputs": [],
   "source": []
  },
  {
   "cell_type": "code",
   "execution_count": null,
   "id": "8e0f8d11-64f4-41b3-94b4-12d4390b4a34",
   "metadata": {},
   "outputs": [],
   "source": []
  },
  {
   "cell_type": "markdown",
   "id": "b318279c-9ff3-473b-b9d2-c98b0bc556c3",
   "metadata": {},
   "source": [
    "**Expected Output:**  \n",
    "  ```\n",
    "  Enter a string: Python\n",
    "  The length of the string is: 6"
   ]
  },
  {
   "cell_type": "markdown",
   "id": "aa8a6595-5e63-4554-bf70-2ae91586b474",
   "metadata": {},
   "source": [
    "**Starter Code:**\n",
    "  ```python\n",
    "  string = input(\"Enter a string: \")\n",
    "  length = len(string)\n",
    "  print(f\"The length of the string is: {length}\")"
   ]
  },
  {
   "cell_type": "markdown",
   "id": "6b1476c9-f689-44cd-9c39-2a320528c734",
   "metadata": {},
   "source": [
    "*****************************************************************************************************"
   ]
  },
  {
   "cell_type": "markdown",
   "id": "7b1f3478-caac-4558-9c02-d5f3783e0508",
   "metadata": {},
   "source": [
    "#### **Problem 6: String to Uppercase**"
   ]
  },
  {
   "cell_type": "markdown",
   "id": "c9c1d439-8526-4ab1-91ac-ddfba2192a0e",
   "metadata": {},
   "source": [
    "**Scenario:** Convert a string to uppercase."
   ]
  },
  {
   "cell_type": "markdown",
   "id": "f20f4317-f397-4a12-8f54-a1bb367ec370",
   "metadata": {},
   "source": [
    "**Problem Statement:**  \n",
    "  Write a program that converts a given string to uppercase."
   ]
  },
  {
   "cell_type": "markdown",
   "id": "3411c3ba-8312-4ce3-b3db-dddc34518bee",
   "metadata": {},
   "source": [
    "**Hint:** Use the `.upper()` method to convert the string to uppercase."
   ]
  },
  {
   "cell_type": "code",
   "execution_count": null,
   "id": "2c34dbca-583f-4f72-a944-3c2eb89faa73",
   "metadata": {},
   "outputs": [],
   "source": []
  },
  {
   "cell_type": "code",
   "execution_count": null,
   "id": "01c08894-242a-4370-9377-f402cd5be921",
   "metadata": {},
   "outputs": [],
   "source": []
  },
  {
   "cell_type": "markdown",
   "id": "52fbe538-7931-4e2c-a673-943a5a330892",
   "metadata": {},
   "source": [
    "**Expected Output:**  \n",
    "  ```\n",
    "  Enter a string: python\n",
    "  The uppercase string is: PYTHON"
   ]
  },
  {
   "cell_type": "markdown",
   "id": "dfd158fa-37ce-4f20-bdf1-1cbb97738391",
   "metadata": {},
   "source": [
    "**Starter Code:**\n",
    "  ```python\n",
    "  string = input(\"Enter a string: \")\n",
    "  uppercased_string = string.upper()\n",
    "  print(f\"The uppercase string is: {uppercased_string}\")"
   ]
  },
  {
   "cell_type": "markdown",
   "id": "442d83b7-8aff-43a3-a257-7cd8a4cd5669",
   "metadata": {},
   "source": [
    "*****************************************************************************************************"
   ]
  },
  {
   "cell_type": "markdown",
   "id": "d51a76d8-7d45-4e57-8812-f8bc0d0e9bce",
   "metadata": {},
   "source": [
    "#### **Problem 7: List of Numbers**"
   ]
  },
  {
   "cell_type": "markdown",
   "id": "e4ba993c-adae-408b-ad15-c408c67df75e",
   "metadata": {},
   "source": [
    "**Scenario:** You are working with a list of numbers and need to perform some operations."
   ]
  },
  {
   "cell_type": "markdown",
   "id": "278b4dda-3c7b-455d-9900-75403df5c2a3",
   "metadata": {},
   "source": [
    "**Problem Statement:**  \n",
    "  Write a program that adds all numbers in a list and prints the result."
   ]
  },
  {
   "cell_type": "markdown",
   "id": "b5aebe68-a394-4ede-bb6b-230216b2293b",
   "metadata": {},
   "source": [
    "**Hint:** Use the built-in `sum()` function to find the sum of all numbers in a list."
   ]
  },
  {
   "cell_type": "code",
   "execution_count": null,
   "id": "fa768c3a-5328-4d0e-a9d0-ffa887c38d84",
   "metadata": {},
   "outputs": [],
   "source": []
  },
  {
   "cell_type": "code",
   "execution_count": null,
   "id": "fc0bd33c-d2a3-45de-aa34-0c74d0471af6",
   "metadata": {},
   "outputs": [],
   "source": []
  },
  {
   "cell_type": "markdown",
   "id": "ad261ffe-02e6-46e5-bb82-0c4fceb92df3",
   "metadata": {},
   "source": [
    "**Expected Output:**  \n",
    "  ```\n",
    "  The total sum of numbers is: 150"
   ]
  },
  {
   "cell_type": "markdown",
   "id": "d0e6ec37-ec7b-49ab-b1d5-d92727380f56",
   "metadata": {},
   "source": [
    "**Starter Code:**\n",
    "  ```python\n",
    "  numbers = [10, 20, 30, 40, 50]\n",
    "  total = sum(numbers)\n",
    "  print(f\"The total sum of numbers is: {total}\")"
   ]
  },
  {
   "cell_type": "markdown",
   "id": "f54dfd4e-c17a-4103-9461-636927f3adfc",
   "metadata": {},
   "source": [
    "*****************************************************************************************************"
   ]
  },
  {
   "cell_type": "markdown",
   "id": "f6465c13-8869-47a6-ba67-f91adf172225",
   "metadata": {},
   "source": [
    "#### **Problem 8: Check if Element Exists in List**"
   ]
  },
  {
   "cell_type": "markdown",
   "id": "794dc310-e716-44bb-a02e-e156be23b64e",
   "metadata": {},
   "source": [
    "**Scenario:** You need to check if an element exists in a list."
   ]
  },
  {
   "cell_type": "markdown",
   "id": "8ad2a7e4-a114-4c81-ad4a-18aba6c6d4d5",
   "metadata": {},
   "source": [
    "**Problem Statement:**  \n",
    "  Write a program that checks if a specific number exists in a list of numbers."
   ]
  },
  {
   "cell_type": "markdown",
   "id": "c312eb31-f9f6-4c21-9e68-c387a4284e21",
   "metadata": {},
   "source": [
    "**Hint:** Use the `in` keyword to check for the presence of an element in a list."
   ]
  },
  {
   "cell_type": "code",
   "execution_count": null,
   "id": "178027ae-7bb4-408c-941d-99497fe5bc29",
   "metadata": {},
   "outputs": [],
   "source": []
  },
  {
   "cell_type": "code",
   "execution_count": null,
   "id": "81cb8753-d71c-4a94-afb1-e0c5c5f16a93",
   "metadata": {},
   "outputs": [],
   "source": []
  },
  {
   "cell_type": "markdown",
   "id": "53090156-6f79-439f-a48d-f70296c50da3",
   "metadata": {},
   "source": [
    "**Expected Output:**  \n",
    "  ```\n",
    "  Enter a number to check: 3\n",
    "  The number 3 exists in the list."
   ]
  },
  {
   "cell_type": "markdown",
   "id": "f3beb103-68d1-4491-a0a5-ddefaa2eb311",
   "metadata": {},
   "source": [
    "**Starter Code:**\n",
    "  ```python\n",
    "  numbers = [1, 2, 3, 4, 5]\n",
    "  number_to_find = int(input(\"Enter a number to check: \"))\n",
    "  if number_to_find in numbers:\n",
    "      print(f\"The number {number_to_find} exists in the list.\")\n",
    "  else:\n",
    "      print(f\"The number {number_to_find} does not exist in the list.\")"
   ]
  },
  {
   "cell_type": "markdown",
   "id": "4f0c0412-ceda-4fd8-a572-4d8b22d67539",
   "metadata": {},
   "source": [
    "*****************************************************************************************************"
   ]
  },
  {
   "cell_type": "markdown",
   "id": "aeefa5a8-4753-4fa4-a7fe-357e2f8df4ab",
   "metadata": {},
   "source": [
    "#### **Problem 9: Dictionary Operations**"
   ]
  },
  {
   "cell_type": "markdown",
   "id": "0489186b-d632-4b0c-92c0-ae8a627c6ec2",
   "metadata": {},
   "source": [
    "**Scenario:** You are working with a dictionary of students and their grades."
   ]
  },
  {
   "cell_type": "markdown",
   "id": "427d4f67-9f64-4f71-8556-fde79523e49f",
   "metadata": {},
   "source": [
    "**Problem Statement:**  \n",
    "  Write a program that adds a new student to a dictionary and prints all student names."
   ]
  },
  {
   "cell_type": "markdown",
   "id": "fc0a22c4-ad5c-40a6-8b42-e3bdeff6892f",
   "metadata": {},
   "source": [
    "**Hint:** Use the dictionary's `[]` notation to add new entries."
   ]
  },
  {
   "cell_type": "code",
   "execution_count": null,
   "id": "f186d810-69d6-4e1e-a182-ddb544b25aff",
   "metadata": {},
   "outputs": [],
   "source": []
  },
  {
   "cell_type": "code",
   "execution_count": null,
   "id": "35155333-1658-40a4-8892-3e6a5ad25cf1",
   "metadata": {},
   "outputs": [],
   "source": []
  },
  {
   "cell_type": "markdown",
   "id": "ab9d4f5a-72a5-486a-ab53-cd24c9b5fd68",
   "metadata": {},
   "source": [
    "**Expected Output:**  \n",
    "  ```\n",
    "  Enter the student's name: Diana\n",
    "  Enter Diana's grade: 90\n",
    "  Updated student list:\n",
    "  Alice\n",
    "  Bob\n",
    "  Charlie\n",
    "  Diana"
   ]
  },
  {
   "cell_type": "markdown",
   "id": "3afa14a9-e36a-4034-b453-2d89238affc9",
   "metadata": {},
   "source": [
    "**Starter Code:**\n",
    "  ```python\n",
    "  students = {\"Alice\": 85, \"Bob\": 92, \"Charlie\": 78}\n",
    "  new_student = input(\"Enter the student's name: \")\n",
    "  new_grade = int(input(f\"Enter {new_student}'s grade: \"))\n",
    "  students[new_student] = new_grade\n",
    "  print(\"Updated student list:\")\n",
    "  for student in students:\n",
    "      print(student)"
   ]
  },
  {
   "cell_type": "markdown",
   "id": "b336b05a-8c1b-4949-8aa7-dca998edcb54",
   "metadata": {},
   "source": [
    "*****************************************************************************************************"
   ]
  },
  {
   "cell_type": "markdown",
   "id": "8c132631-f50e-4032-ae3a-cf3a82f9c83b",
   "metadata": {},
   "source": [
    "#### **Problem 10: Average of Numbers in a List**"
   ]
  },
  {
   "cell_type": "markdown",
   "id": "bb65d818-2712-4d59-b9a8-86e52ec4539b",
   "metadata": {},
   "source": [
    "**Scenario:** Calculate the average of numbers in a list."
   ]
  },
  {
   "cell_type": "markdown",
   "id": "cfdce817-049f-44b5-a688-3d420b2dc85e",
   "metadata": {},
   "source": [
    "**Problem Statement:**  \n",
    "  Write a program that calculates and prints the average of numbers in a list."
   ]
  },
  {
   "cell_type": "markdown",
   "id": "c1871f17-13a4-4715-9396-35eff5e34218",
   "metadata": {},
   "source": [
    "**Hint:** Use the `sum()` function to get the total and `len()` to get the number of elements."
   ]
  },
  {
   "cell_type": "code",
   "execution_count": null,
   "id": "89699e98-40a3-45bd-b4a3-62e70060c0d5",
   "metadata": {},
   "outputs": [],
   "source": []
  },
  {
   "cell_type": "code",
   "execution_count": null,
   "id": "e9c1969d-5999-4021-9746-c7e2d740762b",
   "metadata": {},
   "outputs": [],
   "source": []
  },
  {
   "cell_type": "markdown",
   "id": "85a12822-4b51-44f2-8891-619b9ef7c338",
   "metadata": {},
   "source": [
    "**Expected Output:**  \n",
    "  ```\n",
    "  The average of the numbers is: 30.0"
   ]
  },
  {
   "cell_type": "markdown",
   "id": "ce20f18a-66bf-4f87-8acf-98010a278190",
   "metadata": {},
   "source": [
    "**Starter Code:**\n",
    "  ```python\n",
    "  numbers = [10, 20, 30, 40, 50]\n",
    "  average = sum(numbers) / len(numbers)\n",
    "  print(f\"The average of the numbers is: {average}\")"
   ]
  },
  {
   "cell_type": "markdown",
   "id": "a3ae6a7d-001e-4363-a84f-0de066dda4c5",
   "metadata": {},
   "source": [
    "*****************************************************************************************************"
   ]
  },
  {
   "cell_type": "markdown",
   "id": "fa97939e-4ba5-479b-9cb2-319ee7e5739b",
   "metadata": {
    "jp-MarkdownHeadingCollapsed": true
   },
   "source": [
    "### **Solutions**"
   ]
  },
  {
   "cell_type": "markdown",
   "id": "d089932a-a79f-48a1-a096-1d9516e2bf75",
   "metadata": {},
   "source": [
    "1.   python\n",
    "  num1 = int(input(\"Enter the first number: \"))\n",
    "  num2 = int(input(\"Enter the second number: \"))\n",
    "  sum = num1 + num2\n",
    "  print(f\"The sum is: {sum}\")"
   ]
  },
  {
   "cell_type": "markdown",
   "id": "9085a41c-7669-43e5-b634-09317ecb12f1",
   "metadata": {},
   "source": [
    "2. python\n",
    "  num1 = float(input(\"Enter the first number: \"))\n",
    "  num2 = float(input(\"Enter the second number: \"))\n",
    "  product = num1 * num2\n",
    "  print(f\"The product is: {product}\")"
   ]
  },
  {
   "cell_type": "markdown",
   "id": "f92b7dbf-bfc1-49ee-a7a3-5beb256fa9d3",
   "metadata": {},
   "source": [
    "3. python\n",
    "  num1 = float(input(\"Enter the numerator: \"))\n",
    "  num2 = float(input(\"Enter the denominator: \"))\n",
    "  if num2 == 0:\n",
    "      print(\"Error: Cannot divide by zero!\")\n",
    "  else:\n",
    "      result = num1 / num2\n",
    "      print(f\"The result is: {result}\")"
   ]
  },
  {
   "cell_type": "markdown",
   "id": "2ace8d4b-379a-4705-837f-4c267a44c50d",
   "metadata": {},
   "source": [
    "4. python\n",
    "  string1 = input(\"Enter the first string: \")\n",
    "  string2 = input(\"Enter the second string: \")\n",
    "  result = string1 + \" \" + string2\n",
    "  print(f\"The concatenated string is: {result}\")"
   ]
  },
  {
   "cell_type": "markdown",
   "id": "e8788f3b-e01c-41a0-8071-566a982373b8",
   "metadata": {},
   "source": [
    "5. python\n",
    "  string = input(\"Enter a string: \")\n",
    "  length = len(string)\n",
    "  print(f\"The length of the string is: {length}\")"
   ]
  },
  {
   "cell_type": "markdown",
   "id": "83e0479d-f3fd-4359-be9e-40be35dab672",
   "metadata": {},
   "source": [
    "6. python\n",
    "  string = input(\"Enter a string: \")\n",
    "  uppercased_string = string.upper()\n",
    "  print(f\"The uppercase string is: {uppercased_string}\")"
   ]
  },
  {
   "cell_type": "markdown",
   "id": "77ab6048-57de-4737-b857-170359efd080",
   "metadata": {},
   "source": [
    "7. python\n",
    "  numbers = [10, 20, 30, 40, 50]\n",
    "  total = sum(numbers)\n",
    "  print(f\"The total sum of numbers is: {total}\")"
   ]
  },
  {
   "cell_type": "markdown",
   "id": "843776c8-96ed-4e4b-9845-556e80e32bc3",
   "metadata": {},
   "source": [
    "8. python\n",
    "  numbers = [1, 2, 3, 4, 5]\n",
    "  number_to_find = int(input(\"Enter a number to check: \"))\n",
    "  if number_to_find in numbers:\n",
    "      print(f\"The number {number_to_find} exists in the list.\")\n",
    "  else:\n",
    "      print(f\"The number {number_to_find} does not exist in the list.\")"
   ]
  },
  {
   "cell_type": "markdown",
   "id": "a797b2dd-99ab-4e1b-a08c-410f4bff4514",
   "metadata": {},
   "source": [
    "9. python\n",
    "  students = {\"Alice\": 85, \"Bob\": 92, \"Charlie\": 78}\n",
    "  new_student = input(\"Enter the student's name: \")\n",
    "  new_grade = int(input(f\"Enter {new_student}'s grade: \"))\n",
    "  students[new_student] = new_grade\n",
    "  print(\"Updated student list:\")\n",
    "  for student in students:\n",
    "      print(student)"
   ]
  },
  {
   "cell_type": "markdown",
   "id": "2fa91abd-c7b9-4583-95d1-c4ca0f6b4dd2",
   "metadata": {},
   "source": [
    "10. python\n",
    "  numbers = [10, 20, 30, 40, 50]\n",
    "  average = sum(numbers) / len(numbers)\n",
    "  print(f\"The average of the numbers is: {average}\")"
   ]
  }
 ],
 "metadata": {
  "kernelspec": {
   "display_name": "Python 3 (ipykernel)",
   "language": "python",
   "name": "python3"
  },
  "language_info": {
   "codemirror_mode": {
    "name": "ipython",
    "version": 3
   },
   "file_extension": ".py",
   "mimetype": "text/x-python",
   "name": "python",
   "nbconvert_exporter": "python",
   "pygments_lexer": "ipython3",
   "version": "3.13.0"
  }
 },
 "nbformat": 4,
 "nbformat_minor": 5
}
