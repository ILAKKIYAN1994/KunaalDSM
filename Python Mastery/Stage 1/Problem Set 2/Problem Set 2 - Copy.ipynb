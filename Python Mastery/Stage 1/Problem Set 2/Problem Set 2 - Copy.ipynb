{
 "cells": [
  {
   "cell_type": "markdown",
   "id": "8753c9af-1667-4bc8-b480-b5dbcc5b1fe9",
   "metadata": {},
   "source": [
    "### **Data Types and Operations**"
   ]
  },
  {
   "cell_type": "code",
   "execution_count": null,
   "id": "543340b9-705c-4085-b0d8-20f9c46fa8ef",
   "metadata": {},
   "outputs": [],
   "source": []
  }
 ],
 "metadata": {
  "kernelspec": {
   "display_name": "Python 3 (ipykernel)",
   "language": "python",
   "name": "python3"
  },
  "language_info": {
   "codemirror_mode": {
    "name": "ipython",
    "version": 3
   },
   "file_extension": ".py",
   "mimetype": "text/x-python",
   "name": "python",
   "nbconvert_exporter": "python",
   "pygments_lexer": "ipython3",
   "version": "3.13.0"
  }
 },
 "nbformat": 4,
 "nbformat_minor": 5
}
