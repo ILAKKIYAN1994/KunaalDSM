{
 "cells": [
  {
   "cell_type": "markdown",
   "id": "09abaa85-171c-4696-bc69-5251e008a2d0",
   "metadata": {},
   "source": []
  },
  {
   "cell_type": "markdown",
   "id": "f455e31f-09e6-4bbd-b15c-c6108b2b2c74",
   "metadata": {},
   "source": []
  },
  {
   "cell_type": "markdown",
   "id": "4877da4d-4fe8-4543-85e3-a9a1e12a95dd",
   "metadata": {},
   "source": []
  },
  {
   "cell_type": "markdown",
   "id": "822c13ae-b249-42f8-b4f5-ead1be7b417c",
   "metadata": {},
   "source": []
  },
  {
   "cell_type": "markdown",
   "id": "1de7d8d4-9bde-498a-90a3-25211641794d",
   "metadata": {},
   "source": []
  },
  {
   "cell_type": "markdown",
   "id": "fb074c8f-46f6-4f78-af28-291cf20f5495",
   "metadata": {},
   "source": []
  },
  {
   "cell_type": "markdown",
   "id": "3c983746-b603-4f56-925e-71ddd685f928",
   "metadata": {},
   "source": []
  },
  {
   "cell_type": "markdown",
   "id": "31fbdb55-8251-45d6-9725-b57eb42bc8c0",
   "metadata": {},
   "source": []
  },
  {
   "cell_type": "markdown",
   "id": "7ed0a653-bffe-4cb7-b6be-999dab115e9d",
   "metadata": {},
   "source": []
  },
  {
   "cell_type": "markdown",
   "id": "a88da3de-b2b9-4fa2-a0ef-18bad8d6d95e",
   "metadata": {},
   "source": []
  },
  {
   "cell_type": "markdown",
   "id": "cad3b304-d683-42d1-be7b-9437ea14ac6f",
   "metadata": {},
   "source": []
  },
  {
   "cell_type": "markdown",
   "id": "262d0ad0-868f-4074-938e-aca73f52866f",
   "metadata": {},
   "source": []
  },
  {
   "cell_type": "markdown",
   "id": "1f71c2a3-f6a7-4979-a7dd-7e14dc9a5942",
   "metadata": {},
   "source": []
  },
  {
   "cell_type": "markdown",
   "id": "f87fa326-2546-4531-a565-98affad52263",
   "metadata": {},
   "source": []
  },
  {
   "cell_type": "markdown",
   "id": "eb27c735-59b8-447e-8fc2-3a21ea4e97c2",
   "metadata": {},
   "source": []
  },
  {
   "cell_type": "markdown",
   "id": "7940e5de-1f9e-4398-87aa-36d24ea396f6",
   "metadata": {},
   "source": []
  },
  {
   "cell_type": "markdown",
   "id": "3b020c45-ac01-4d68-bb45-2b74f1a5c08d",
   "metadata": {},
   "source": []
  },
  {
   "cell_type": "markdown",
   "id": "51b92271-e9c8-4976-9712-47b3fe673c67",
   "metadata": {},
   "source": []
  },
  {
   "cell_type": "markdown",
   "id": "4d851116-8ca3-49a4-888f-500752091c73",
   "metadata": {},
   "source": []
  },
  {
   "cell_type": "markdown",
   "id": "ac1683df-caf8-4b72-858f-125e09542d23",
   "metadata": {},
   "source": []
  },
  {
   "cell_type": "markdown",
   "id": "e83b3e05-b3ea-4799-b687-60c28290af1d",
   "metadata": {},
   "source": []
  },
  {
   "cell_type": "markdown",
   "id": "07bed91c-3d15-4b48-ac0f-bd7b16d3d9a0",
   "metadata": {},
   "source": []
  },
  {
   "cell_type": "markdown",
   "id": "9e0f1481-1cac-4820-9d6a-2fd95c5e7aaf",
   "metadata": {},
   "source": []
  },
  {
   "cell_type": "markdown",
   "id": "76f424bc-37c9-4ee5-8721-bc64603046d1",
   "metadata": {},
   "source": []
  },
  {
   "cell_type": "markdown",
   "id": "2a7de4b2-4976-4452-80c1-fa6ac9378cf2",
   "metadata": {},
   "source": []
  },
  {
   "cell_type": "markdown",
   "id": "e7b4d587-431f-49ae-9787-682dbe3d0f08",
   "metadata": {},
   "source": []
  },
  {
   "cell_type": "markdown",
   "id": "1e9b2da4-4510-4771-983b-52c44958ff74",
   "metadata": {},
   "source": []
  },
  {
   "cell_type": "markdown",
   "id": "5a053757-9662-4a3f-8e25-3e010bd24280",
   "metadata": {},
   "source": []
  },
  {
   "cell_type": "markdown",
   "id": "0d97d715-03ff-4816-8fa2-463893592a05",
   "metadata": {},
   "source": []
  },
  {
   "cell_type": "markdown",
   "id": "11af2a7d-13b4-4828-844c-0c6a18453320",
   "metadata": {},
   "source": []
  },
  {
   "cell_type": "markdown",
   "id": "ce7b0fa2-d365-4f03-a133-6c026609be61",
   "metadata": {},
   "source": []
  },
  {
   "cell_type": "markdown",
   "id": "2045a6f0-603e-408e-ac43-374b98ce3dd8",
   "metadata": {},
   "source": []
  },
  {
   "cell_type": "markdown",
   "id": "d7bf5e71-896d-4140-83ac-a3cfcaa13c7c",
   "metadata": {},
   "source": []
  },
  {
   "cell_type": "markdown",
   "id": "33f9a881-6bfb-43d9-b2f1-a74386127523",
   "metadata": {},
   "source": []
  },
  {
   "cell_type": "markdown",
   "id": "6c56a363-6963-411d-adac-146771ef2dbc",
   "metadata": {},
   "source": []
  },
  {
   "cell_type": "markdown",
   "id": "598b8d39-da89-45b1-b97c-b7df93de12af",
   "metadata": {},
   "source": []
  },
  {
   "cell_type": "markdown",
   "id": "cf173d8f-2d4b-4189-8968-2afbb57a6a81",
   "metadata": {},
   "source": []
  },
  {
   "cell_type": "markdown",
   "id": "ccdfe317-4b90-450e-bdcf-b1da5789b992",
   "metadata": {},
   "source": []
  },
  {
   "cell_type": "markdown",
   "id": "6b6e2ff6-419e-4276-b431-8d677ffda146",
   "metadata": {},
   "source": []
  },
  {
   "cell_type": "markdown",
   "id": "36df0f79-80c5-4903-9098-1a3ad37f0850",
   "metadata": {},
   "source": []
  },
  {
   "cell_type": "markdown",
   "id": "bc2b8f34-391c-483f-88de-4dae2af78315",
   "metadata": {},
   "source": []
  },
  {
   "cell_type": "markdown",
   "id": "b5f37435-38ca-42fc-8261-4244d313721e",
   "metadata": {},
   "source": []
  },
  {
   "cell_type": "markdown",
   "id": "f5a5afbb-80b8-40fd-93ce-feb5f3f6348b",
   "metadata": {},
   "source": []
  },
  {
   "cell_type": "markdown",
   "id": "21b29a55-eccc-4b80-8a23-6a9749eee9ed",
   "metadata": {},
   "source": []
  },
  {
   "cell_type": "markdown",
   "id": "f300bc3a-789e-4b76-addb-295bdb9a068d",
   "metadata": {},
   "source": []
  },
  {
   "cell_type": "markdown",
   "id": "0eeb1797-9472-4021-a1d5-77a9cab2853c",
   "metadata": {},
   "source": []
  },
  {
   "cell_type": "markdown",
   "id": "459f30d3-0412-4f91-ad13-41af0a6cd2e3",
   "metadata": {},
   "source": []
  },
  {
   "cell_type": "markdown",
   "id": "a3d67b3e-13fa-474a-8558-7c0f74b47dc9",
   "metadata": {},
   "source": []
  },
  {
   "cell_type": "markdown",
   "id": "4d181b1e-0ca1-4002-b4c0-71f412f402ea",
   "metadata": {},
   "source": []
  },
  {
   "cell_type": "markdown",
   "id": "f8732dde-0c52-4ec6-b9f2-f314d235e139",
   "metadata": {},
   "source": []
  },
  {
   "cell_type": "markdown",
   "id": "57c35ede-7f9e-4913-9cb2-f64eca8a9306",
   "metadata": {},
   "source": []
  },
  {
   "cell_type": "markdown",
   "id": "707cc412-ed6c-42b5-b5f1-1a54ab9ff4dc",
   "metadata": {},
   "source": []
  },
  {
   "cell_type": "markdown",
   "id": "4cf05abc-a142-41dd-a43b-bf3a891ae512",
   "metadata": {},
   "source": []
  },
  {
   "cell_type": "markdown",
   "id": "47ea739c-5206-413d-8d2b-5eb28de83295",
   "metadata": {},
   "source": []
  },
  {
   "cell_type": "markdown",
   "id": "1698706c-0fbc-4106-9134-c9d2000b8036",
   "metadata": {},
   "source": []
  },
  {
   "cell_type": "markdown",
   "id": "158d5449-f9a5-4e93-b101-d821c7049389",
   "metadata": {},
   "source": []
  },
  {
   "cell_type": "markdown",
   "id": "4083c76a-1df8-4caa-b35f-06639e6a4f53",
   "metadata": {},
   "source": []
  },
  {
   "cell_type": "markdown",
   "id": "1b5087e4-8f20-4cad-9f55-85cbf5e5e9ea",
   "metadata": {},
   "source": []
  },
  {
   "cell_type": "markdown",
   "id": "d97c1965-1bd4-49b2-af2b-644cb227372c",
   "metadata": {},
   "source": []
  },
  {
   "cell_type": "markdown",
   "id": "27419f4c-0a05-49e6-9dd5-585eb6ae94a0",
   "metadata": {},
   "source": []
  },
  {
   "cell_type": "markdown",
   "id": "c49ef9e2-c1df-4e23-8fe8-8f84d8eb0002",
   "metadata": {},
   "source": []
  },
  {
   "cell_type": "markdown",
   "id": "78e63d1c-563b-4ef0-be43-1901fca6937d",
   "metadata": {},
   "source": []
  },
  {
   "cell_type": "markdown",
   "id": "9302eb6b-e03c-47e5-9139-0e6088d5367e",
   "metadata": {},
   "source": []
  },
  {
   "cell_type": "markdown",
   "id": "6aedd59d-3c63-4677-a2f2-27958546e64e",
   "metadata": {},
   "source": []
  },
  {
   "cell_type": "markdown",
   "id": "4339b1b0-55fd-408d-91ec-85c6f4c665c8",
   "metadata": {},
   "source": []
  },
  {
   "cell_type": "markdown",
   "id": "35126a19-0a25-44ce-9390-f164d641238d",
   "metadata": {},
   "source": []
  },
  {
   "cell_type": "markdown",
   "id": "c8c33de5-772a-4509-8533-62a2d3a35c89",
   "metadata": {},
   "source": []
  },
  {
   "cell_type": "markdown",
   "id": "e843666b-9db4-4bb0-b19c-09017c723ffc",
   "metadata": {},
   "source": []
  },
  {
   "cell_type": "markdown",
   "id": "e6dd582c-6d1b-4817-b1b0-8a925e15d155",
   "metadata": {},
   "source": []
  },
  {
   "cell_type": "markdown",
   "id": "ecd29aa0-59c7-41f7-a5d0-cc6655fb0ee9",
   "metadata": {},
   "source": []
  },
  {
   "cell_type": "markdown",
   "id": "76091452-9949-4808-bcd2-369505d1b0a3",
   "metadata": {},
   "source": []
  },
  {
   "cell_type": "markdown",
   "id": "d30596ad-4d0e-40d1-8e59-0b4af9e6d12e",
   "metadata": {},
   "source": []
  },
  {
   "cell_type": "markdown",
   "id": "5acff898-bc41-4cc6-aeb4-e9462b28944e",
   "metadata": {},
   "source": []
  },
  {
   "cell_type": "markdown",
   "id": "df34ef9e-2ed3-4840-8f11-51fcb6fbcd07",
   "metadata": {},
   "source": []
  },
  {
   "cell_type": "markdown",
   "id": "fbc367df-6985-4909-8be6-5d2e314267c0",
   "metadata": {},
   "source": []
  },
  {
   "cell_type": "markdown",
   "id": "50853584-0c3b-4df5-bfdd-4ebccdf71537",
   "metadata": {},
   "source": []
  },
  {
   "cell_type": "markdown",
   "id": "512b9cdb-e8eb-41ad-affc-d73b80ff417e",
   "metadata": {},
   "source": []
  },
  {
   "cell_type": "markdown",
   "id": "5ed1cff7-51f3-46d8-b122-385eaa8c968b",
   "metadata": {},
   "source": []
  },
  {
   "cell_type": "markdown",
   "id": "28a8b5de-39de-4b68-ad95-2cda1f124aa5",
   "metadata": {},
   "source": []
  },
  {
   "cell_type": "markdown",
   "id": "7e44566e-a166-4a6f-8dcd-56f207e657cb",
   "metadata": {},
   "source": []
  },
  {
   "cell_type": "markdown",
   "id": "3767bc86-f780-4f69-8b18-c2e2dca05356",
   "metadata": {},
   "source": []
  },
  {
   "cell_type": "markdown",
   "id": "1928f5dc-0f43-4bd9-82c8-cfd28ad7ecc5",
   "metadata": {},
   "source": []
  },
  {
   "cell_type": "markdown",
   "id": "3147675e-d348-498b-8662-f1b6e6666874",
   "metadata": {},
   "source": []
  },
  {
   "cell_type": "markdown",
   "id": "49aa659c-5b5e-475c-8124-40938c61c276",
   "metadata": {},
   "source": []
  },
  {
   "cell_type": "markdown",
   "id": "285aa2c4-2aeb-47d8-a6b7-be6eefec805c",
   "metadata": {},
   "source": []
  },
  {
   "cell_type": "markdown",
   "id": "505240d5-6fcd-4af2-bff6-ef48b2840fbd",
   "metadata": {},
   "source": []
  },
  {
   "cell_type": "markdown",
   "id": "ab6e1042-1544-4114-98c3-527d2519df1c",
   "metadata": {},
   "source": []
  },
  {
   "cell_type": "markdown",
   "id": "7cbb381a-083b-441f-a0b9-9130b7ccb20f",
   "metadata": {},
   "source": []
  },
  {
   "cell_type": "markdown",
   "id": "7fdd8cdc-ffa2-4bc3-8d57-0a887986eddf",
   "metadata": {},
   "source": []
  },
  {
   "cell_type": "markdown",
   "id": "cabf2121-9d6e-4a2d-b474-a81d1cae7205",
   "metadata": {},
   "source": []
  },
  {
   "cell_type": "markdown",
   "id": "af4e53a2-6349-4e1b-bc82-5d67968f2243",
   "metadata": {},
   "source": []
  },
  {
   "cell_type": "markdown",
   "id": "6063edac-f761-4779-b0c8-2b834413d2ef",
   "metadata": {},
   "source": []
  },
  {
   "cell_type": "markdown",
   "id": "ddbb5f25-1cb7-410a-a8fb-1b6ef6e14383",
   "metadata": {},
   "source": []
  },
  {
   "cell_type": "markdown",
   "id": "815c0e00-edb4-4882-b72b-aa1e2ce14d94",
   "metadata": {},
   "source": []
  },
  {
   "cell_type": "markdown",
   "id": "229c4fd0-13dc-4319-aae9-6d21bc7bcf23",
   "metadata": {},
   "source": []
  },
  {
   "cell_type": "markdown",
   "id": "06ee12b8-106e-4aa1-89c7-51f43d7e324b",
   "metadata": {},
   "source": []
  },
  {
   "cell_type": "markdown",
   "id": "1c0c9257-899b-464e-8d30-fe3a728a0718",
   "metadata": {},
   "source": []
  },
  {
   "cell_type": "markdown",
   "id": "f3745790-7aee-4249-ad01-c209588a5940",
   "metadata": {},
   "source": []
  },
  {
   "cell_type": "markdown",
   "id": "ab964759-2b30-460b-ae7d-0cb110a1e67e",
   "metadata": {},
   "source": []
  },
  {
   "cell_type": "markdown",
   "id": "33b235fe-ff67-4b68-a36d-3fdff664c49e",
   "metadata": {},
   "source": []
  }
 ],
 "metadata": {
  "kernelspec": {
   "display_name": "Python 3 (ipykernel)",
   "language": "python",
   "name": "python3"
  },
  "language_info": {
   "codemirror_mode": {
    "name": "ipython",
    "version": 3
   },
   "file_extension": ".py",
   "mimetype": "text/x-python",
   "name": "python",
   "nbconvert_exporter": "python",
   "pygments_lexer": "ipython3",
   "version": "3.13.0"
  }
 },
 "nbformat": 4,
 "nbformat_minor": 5
}
