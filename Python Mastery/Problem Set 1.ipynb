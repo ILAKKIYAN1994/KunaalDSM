{
 "cells": [
  {
   "cell_type": "markdown",
   "id": "604a45ca-c093-4e5b-8673-b1020f544837",
   "metadata": {},
   "source": [
    "### **Topic: Python Basics**  "
   ]
  },
  {
   "cell_type": "markdown",
   "id": "b9d5c9b4-2e50-4073-a8a1-e1fbe30e4c70",
   "metadata": {},
   "source": [
    "### **Problem 1: Greeting the User**"
   ]
  },
  {
   "cell_type": "markdown",
   "id": "315251cd-427a-45f4-8c88-b823483f6dde",
   "metadata": {},
   "source": [
    "**Scenario:** Write a program to greet the user by name."
   ]
  },
  {
   "cell_type": "markdown",
   "id": "0779abc2-cfd0-4a69-ac63-695cd4b8f05f",
   "metadata": {},
   "source": [
    "- **Problem Statement:**  \n",
    "  Prompt the user to input their name, then print a message that says, \"Hello, [name]! Welcome to Python!\""
   ]
  },
  {
   "cell_type": "markdown",
   "id": "bc8d8b70-4ffa-48da-b4b0-9209eb18aa51",
   "metadata": {},
   "source": [
    "- **Starter Code:**\n",
    "  ```python\n",
    "  name = input(\"Enter your name: \")\n",
    "  print(\"Hello, \" + name + \"! Welcome to Python!\")"
   ]
  },
  {
   "cell_type": "code",
   "execution_count": null,
   "id": "0b365ca1-eae4-4fd7-8d4c-73ad582dba33",
   "metadata": {},
   "outputs": [],
   "source": []
  },
  {
   "cell_type": "code",
   "execution_count": null,
   "id": "e2aa44bd-b1dd-4213-941c-749164972c12",
   "metadata": {},
   "outputs": [],
   "source": []
  },
  {
   "cell_type": "markdown",
   "id": "46b19cf7-511f-4abe-a01a-953eeebcf9b8",
   "metadata": {},
   "source": [
    "- **Hint:** Use `input()` to get the name and `print()` to display the message."
   ]
  },
  {
   "cell_type": "markdown",
   "id": "36eb9c1e-6f21-4b38-89a5-c642726568bb",
   "metadata": {},
   "source": [
    "- **Expected Output:**\n",
    "  ```\n",
    "  Enter your name: John\n",
    "  Hello, John! Welcome to Python!"
   ]
  },
  {
   "cell_type": "markdown",
   "id": "461fee8d-1639-4160-8c5c-8799a4261b3f",
   "metadata": {},
   "source": [
    "*******************************************************************************************"
   ]
  },
  {
   "cell_type": "markdown",
   "id": "a297ceff-be3b-4fb4-b59f-11fb4e17a2d6",
   "metadata": {},
   "source": [
    "### **Problem 2: Basic Arithmetic**"
   ]
  },
  {
   "cell_type": "markdown",
   "id": "4cac9311-0781-4463-bfc9-cd034c0cc46e",
   "metadata": {},
   "source": [
    "**Scenario:** Perform basic arithmetic operations."
   ]
  },
  {
   "cell_type": "markdown",
   "id": "dfa74968-ff52-40e5-82d2-074fbb0965d1",
   "metadata": {},
   "source": [
    "- **Problem Statement:**  \n",
    "  Get two numbers from the user and print their sum, difference, product, and quotient."
   ]
  },
  {
   "cell_type": "markdown",
   "id": "b1d5c348-61ea-4d80-9e76-fd27f755fa0d",
   "metadata": {},
   "source": [
    "- **Starter Code:**\n",
    "  ```python\n",
    "  num1 = float(input(\"Enter the first number: \"))\n",
    "  num2 = float(input(\"Enter the second number: \"))\n",
    "  print(\"Sum: \", num1 + num2)\n",
    "  print(\"Difference: \", num1 - num2)\n",
    "  print(\"Product: \", num1 * num2)\n",
    "  print(\"Quotient: \", num1 / num2)"
   ]
  },
  {
   "cell_type": "code",
   "execution_count": null,
   "id": "39c312f3-0fe1-4fdc-a0c5-fe7564712043",
   "metadata": {},
   "outputs": [],
   "source": []
  },
  {
   "cell_type": "code",
   "execution_count": null,
   "id": "0f5f4b8b-28f0-443f-8365-37bf89e1d61a",
   "metadata": {},
   "outputs": [],
   "source": []
  },
  {
   "cell_type": "markdown",
   "id": "98f02cb2-a9d2-4d03-bcfc-4ba5a2acab83",
   "metadata": {},
   "source": [
    "- **Hint:** Use arithmetic operators (`+`, `-`, `*`, `/`) to perform calculations."
   ]
  },
  {
   "cell_type": "markdown",
   "id": "0fbf9f1e-9ec1-4a8e-bacf-ef9b1073d690",
   "metadata": {},
   "source": [
    "- **Expected Output:**\n",
    "  ```\n",
    "  Enter the first number: 10\n",
    "  Enter the second number: 5\n",
    "  Sum:  15.0\n",
    "  Difference:  5.0\n",
    "  Product:  50.0\n",
    "  Quotient:  2.0"
   ]
  },
  {
   "cell_type": "markdown",
   "id": "4d0c6a5e-b8b8-4ef3-afb0-2c160dffabc9",
   "metadata": {},
   "source": [
    "*******************************************************************************************"
   ]
  },
  {
   "cell_type": "markdown",
   "id": "80bc04ea-c14d-45e1-a55f-c79a7fd68b8d",
   "metadata": {},
   "source": [
    "### **Problem 3: Even or Odd**"
   ]
  },
  {
   "cell_type": "markdown",
   "id": "40c2fd9f-e00c-48e8-bab5-badd8d66dc58",
   "metadata": {},
   "source": [
    "**Scenario:** Check whether a number is even or odd."
   ]
  },
  {
   "cell_type": "markdown",
   "id": "6b557784-3959-4aec-b0fd-28c78b84f4ac",
   "metadata": {},
   "source": [
    "- **Problem Statement:**  \n",
    "  Take an integer input from the user and determine whether the number is even or odd."
   ]
  },
  {
   "cell_type": "markdown",
   "id": "60a0db0b-b301-40a0-adae-23cfa2b39f11",
   "metadata": {},
   "source": [
    "- **Starter Code:**\n",
    "  ```python\n",
    "  num = int(input(\"Enter a number: \"))\n",
    "  if num % 2 == 0:\n",
    "      print(\"Even\")\n",
    "  else:\n",
    "      print(\"Odd\")"
   ]
  },
  {
   "cell_type": "code",
   "execution_count": null,
   "id": "fb6b0c16-c37a-49d5-a767-a125f4d11683",
   "metadata": {},
   "outputs": [],
   "source": []
  },
  {
   "cell_type": "code",
   "execution_count": null,
   "id": "70fc3d5f-44fb-463c-956b-7efc447e9ab1",
   "metadata": {},
   "outputs": [],
   "source": []
  },
  {
   "cell_type": "markdown",
   "id": "af36e236-7ec4-4430-b992-2af211034e50",
   "metadata": {},
   "source": [
    "- **Hint:** Use the modulo operator `%` to check if a number is divisible by 2."
   ]
  },
  {
   "cell_type": "markdown",
   "id": "377d31a3-2dda-4f95-beaf-453f964876e0",
   "metadata": {},
   "source": [
    "- **Expected Output:**\n",
    "  ```\n",
    "  Enter a number: 7\n",
    "  Odd"
   ]
  },
  {
   "cell_type": "markdown",
   "id": "b490426e-7a1f-4b6b-86e1-b110c5d5a1b5",
   "metadata": {},
   "source": [
    "*******************************************************************************************"
   ]
  },
  {
   "cell_type": "markdown",
   "id": "3ca9f48c-fb53-4782-95f2-6a17fef950f5",
   "metadata": {},
   "source": [
    "### **Problem 4: Temperature Conversion**"
   ]
  },
  {
   "cell_type": "markdown",
   "id": "0655b7cd-8da1-499f-8308-1e95b1660b07",
   "metadata": {},
   "source": [
    "**Scenario:** Convert Celsius to Fahrenheit."
   ]
  },
  {
   "cell_type": "markdown",
   "id": "48943f83-caa1-4a49-9b92-72955bf27466",
   "metadata": {},
   "source": [
    "- **Problem Statement:**  \n",
    "  Write a program that takes a temperature in Celsius as input and converts it to Fahrenheit using the formula `F = (C * 9/5) + 32`."
   ]
  },
  {
   "cell_type": "markdown",
   "id": "58c03838-d000-4cc5-af2a-a0f741f7dfd7",
   "metadata": {},
   "source": [
    "- **Starter Code:**\n",
    "  ```python\n",
    "  celsius = float(input(\"Enter temperature in Celsius: \"))\n",
    "  fahrenheit = (celsius * 9/5) + 32\n",
    "  print(f\"{celsius}°C is equal to {fahrenheit}°F\")"
   ]
  },
  {
   "cell_type": "code",
   "execution_count": null,
   "id": "dfb71881-4688-4287-8df1-06e04ab61a55",
   "metadata": {},
   "outputs": [],
   "source": []
  },
  {
   "cell_type": "code",
   "execution_count": null,
   "id": "6816e32b-2ee1-420e-a954-e442094f0cb4",
   "metadata": {},
   "outputs": [],
   "source": []
  },
  {
   "cell_type": "markdown",
   "id": "14387520-1dd9-4272-9760-ba851be6c844",
   "metadata": {},
   "source": [
    "- **Hint:** Apply the conversion formula provided."
   ]
  },
  {
   "cell_type": "markdown",
   "id": "79c77856-da77-484d-ba1b-687fca84a37d",
   "metadata": {},
   "source": [
    "- **Expected Output:**\n",
    "  ```\n",
    "  Enter temperature in Celsius: 25\n",
    "  25.0°C is equal to 77.0°F\n",
    "  ```"
   ]
  },
  {
   "cell_type": "markdown",
   "id": "cb89210b-fb58-486f-b08a-bd34c6de868c",
   "metadata": {},
   "source": [
    "*******************************************************************************************"
   ]
  },
  {
   "cell_type": "markdown",
   "id": "31ac6574-60ee-43cb-ba48-9b3463a02e24",
   "metadata": {},
   "source": [
    "### **Problem 5: Area of a Rectangle**"
   ]
  },
  {
   "cell_type": "markdown",
   "id": "1fcff0de-bf0c-410d-926c-4dd7b550f7a5",
   "metadata": {},
   "source": [
    "**Scenario:** Calculate the area of a rectangle."
   ]
  },
  {
   "cell_type": "markdown",
   "id": "8c5e016e-82fc-4853-b639-4f7a0bd10530",
   "metadata": {},
   "source": [
    "- **Problem Statement:**  \n",
    "  Prompt the user to input the length and width of a rectangle, and calculate the area."
   ]
  },
  {
   "cell_type": "markdown",
   "id": "ad7a1538-7bde-463b-866b-2110b398293d",
   "metadata": {},
   "source": [
    "- **Starter Code:**\n",
    "  ```python\n",
    "  length = float(input(\"Enter the length of the rectangle: \"))\n",
    "  width = float(input(\"Enter the width of the rectangle: \"))\n",
    "  area = length * width\n",
    "  print(f\"The area of the rectangle is {area}\")\n",
    "  ```"
   ]
  },
  {
   "cell_type": "code",
   "execution_count": null,
   "id": "fac2aaba-0c1f-4eb8-9b7b-82b716587c2a",
   "metadata": {},
   "outputs": [],
   "source": []
  },
  {
   "cell_type": "code",
   "execution_count": null,
   "id": "bc1970ad-b5eb-4bb7-8c69-6de5e5c1a6e4",
   "metadata": {},
   "outputs": [],
   "source": []
  },
  {
   "cell_type": "markdown",
   "id": "090b24a3-4f75-4fe5-bec2-0db3da859e72",
   "metadata": {},
   "source": [
    "- **Hint:** Use the formula `area = length * width` to calculate the area."
   ]
  },
  {
   "cell_type": "markdown",
   "id": "e83024f6-6e18-42b5-a0f6-62270b7b57fd",
   "metadata": {},
   "source": [
    "- **Expected Output:**\n",
    "  ```\n",
    "  Enter the length of the rectangle: 5\n",
    "  Enter the width of the rectangle: 3\n",
    "  The area of the rectangle is 15.0"
   ]
  },
  {
   "cell_type": "markdown",
   "id": "badf9ea8-10d5-43fd-b602-fb35fecccbe2",
   "metadata": {},
   "source": [
    "*******************************************************************************************"
   ]
  },
  {
   "cell_type": "markdown",
   "id": "a986ba7e-5437-479f-8968-d6f4abc71362",
   "metadata": {},
   "source": [
    "### **Problem 6: Sum of Natural Numbers**"
   ]
  },
  {
   "cell_type": "markdown",
   "id": "75cad395-6d65-4902-9dfd-1bd2e7eb5589",
   "metadata": {},
   "source": [
    "**Scenario:** Calculate the sum of the first N natural numbers."
   ]
  },
  {
   "cell_type": "markdown",
   "id": "0a3f3b4d-95c7-4531-bdd3-e9726bc6d9dd",
   "metadata": {},
   "source": [
    "- **Problem Statement:**  \n",
    "  Prompt the user to input a number `N`, and then calculate the sum of numbers from 1 to `N`."
   ]
  },
  {
   "cell_type": "markdown",
   "id": "ed158819-1ffe-40f0-92df-86a460defd63",
   "metadata": {},
   "source": [
    "- **Starter Code:**\n",
    "  ```python\n",
    "  N = int(input(\"Enter a number: \"))\n",
    "  sum_of_numbers = sum(range(1, N + 1))\n",
    "  print(f\"The sum of numbers from 1 to {N} is {sum_of_numbers}\")"
   ]
  },
  {
   "cell_type": "code",
   "execution_count": null,
   "id": "c21311c3-a256-4f54-a771-67fadb0ba94e",
   "metadata": {},
   "outputs": [],
   "source": []
  },
  {
   "cell_type": "code",
   "execution_count": null,
   "id": "b5d3885a-8108-4b1e-8a49-78b14c30cd2a",
   "metadata": {},
   "outputs": [],
   "source": []
  },
  {
   "cell_type": "markdown",
   "id": "4c88526e-1335-4ea5-a5d0-1813a36ba251",
   "metadata": {},
   "source": [
    "- **Hint:** Use `range(1, N+1)` to iterate over numbers from 1 to N, and `sum()` to calculate the sum."
   ]
  },
  {
   "cell_type": "markdown",
   "id": "24792532-930c-4634-9f18-83da8c7cb889",
   "metadata": {},
   "source": [
    "- **Expected Output:**\n",
    "  ```\n",
    "  Enter a number: 5\n",
    "  The sum of numbers from 1 to 5 is 15"
   ]
  },
  {
   "cell_type": "markdown",
   "id": "844b2536-a03a-4145-9023-5f3b96d35914",
   "metadata": {},
   "source": [
    "*******************************************************************************************"
   ]
  },
  {
   "cell_type": "markdown",
   "id": "6cf476e1-9429-481d-9ccf-8b198a6ea694",
   "metadata": {},
   "source": [
    "### **Problem 7: Simple Calculator**"
   ]
  },
  {
   "cell_type": "markdown",
   "id": "f8fa868c-6458-4ed1-8540-73b712e8c30e",
   "metadata": {},
   "source": [
    "**Scenario:** Build a basic calculator."
   ]
  },
  {
   "cell_type": "markdown",
   "id": "4fb30cb5-adf4-4594-9318-6ef193d4910f",
   "metadata": {},
   "source": [
    "- **Problem Statement:**  \n",
    "  Write a program that allows the user to select an arithmetic operation (+, -, *, /) and perform the operation on two numbers entered by the user."
   ]
  },
  {
   "cell_type": "markdown",
   "id": "c5527787-ec0f-40ce-b16d-832490f96ba6",
   "metadata": {},
   "source": [
    "- **Starter Code:**\n",
    "  ```python\n",
    "  num1 = float(input(\"Enter the first number: \"))\n",
    "  num2 = float(input(\"Enter the second number: \"))\n",
    "  operation = input(\"Choose an operation (+, -, *, /): \")\n",
    "  \n",
    "  if operation == \"+\":\n",
    "      print(f\"Result: {num1 + num2}\")\n",
    "  elif operation == \"-\":\n",
    "      print(f\"Result: {num1 - num2}\")\n",
    "  elif operation == \"*\":\n",
    "      print(f\"Result: {num1 * num2}\")\n",
    "  elif operation == \"/\":\n",
    "      print(f\"Result: {num1 / num2}\")\n",
    "  else:\n",
    "      print(\"Invalid operation\")\n",
    "  ```"
   ]
  },
  {
   "cell_type": "code",
   "execution_count": null,
   "id": "dfd1ea1c-3063-45c6-aeaa-076014933339",
   "metadata": {},
   "outputs": [],
   "source": []
  },
  {
   "cell_type": "code",
   "execution_count": null,
   "id": "cf986c33-c930-4378-a493-1d34ca6a012b",
   "metadata": {},
   "outputs": [],
   "source": []
  },
  {
   "cell_type": "markdown",
   "id": "55945197-7763-4e90-8d05-515dd5a6f08b",
   "metadata": {},
   "source": [
    "- **Hint:** Use `if-elif-else` to check for the selected operation and perform the corresponding calculation."
   ]
  },
  {
   "cell_type": "markdown",
   "id": "fc0a1bdd-f957-49a0-8f11-dbe4287aad8d",
   "metadata": {},
   "source": [
    "- **Expected Output:**\n",
    "  ```\n",
    "  Enter the first number: 10\n",
    "  Enter the second number: 5\n",
    "  Choose an operation (+, -, *, /): *\n",
    "  Result: 50.0"
   ]
  },
  {
   "cell_type": "markdown",
   "id": "3ec957d0-c7fe-4c55-891c-9d4591223b28",
   "metadata": {},
   "source": [
    "*******************************************************************************************"
   ]
  },
  {
   "cell_type": "markdown",
   "id": "daefc06c-d952-4e31-b6ed-4ee24226cee2",
   "metadata": {},
   "source": [
    "### **Problem 8: Leap Year Check**"
   ]
  },
  {
   "cell_type": "markdown",
   "id": "2343d110-ed9e-4389-b114-c8a56c56b016",
   "metadata": {},
   "source": [
    "**Scenario:** Check whether a given year is a leap year."
   ]
  },
  {
   "cell_type": "markdown",
   "id": "ae21cfc9-7176-4f6f-891a-4231385b1155",
   "metadata": {},
   "source": [
    "- **Problem Statement:**  \n",
    "  Prompt the user to input a year and check whether it's a leap year."
   ]
  },
  {
   "cell_type": "markdown",
   "id": "2540feac-4c06-46c0-9bf0-df4c97622b39",
   "metadata": {},
   "source": [
    "- **Starter Code:**\n",
    "  ```python\n",
    "  year = int(input(\"Enter a year: \"))\n",
    "  if (year % 4 == 0 and year % 100 != 0) or (year % 400 == 0):\n",
    "      print(\"Leap year\")\n",
    "  else:\n",
    "      print(\"Not a leap year\")"
   ]
  },
  {
   "cell_type": "code",
   "execution_count": null,
   "id": "1fb9702e-6c43-4d56-88e3-b16f09931ded",
   "metadata": {},
   "outputs": [],
   "source": []
  },
  {
   "cell_type": "code",
   "execution_count": null,
   "id": "e32cb762-8313-4293-a0c8-0ffa4ca2ac0f",
   "metadata": {},
   "outputs": [],
   "source": []
  },
  {
   "cell_type": "markdown",
   "id": "f650cb7e-8e4f-419d-8f83-330f7f7b0ed1",
   "metadata": {},
   "source": [
    "- **Hint:** A year is a leap year if divisible by 4, but divisible by 100 only if also divisible by 400."
   ]
  },
  {
   "cell_type": "markdown",
   "id": "3a9cb7db-e5d7-46e6-b17d-f3a631d04eea",
   "metadata": {},
   "source": [
    "- **Expected Output:**\n",
    "  ```\n",
    "  Enter a year: 2024\n",
    "  Leap year"
   ]
  },
  {
   "cell_type": "markdown",
   "id": "72ff6df2-c0d5-4e8e-ba51-feeb853ed47f",
   "metadata": {},
   "source": [
    "*******************************************************************************************"
   ]
  },
  {
   "cell_type": "markdown",
   "id": "32ae04c2-506b-4b2e-b833-28d0059b9763",
   "metadata": {},
   "source": [
    "### **Problem 9: Count Vowels in a String**"
   ]
  },
  {
   "cell_type": "markdown",
   "id": "4ceb693d-cc18-4647-a7f6-b83b8658c52a",
   "metadata": {},
   "source": [
    "**Scenario:** Count the vowels in a string."
   ]
  },
  {
   "cell_type": "markdown",
   "id": "d6b2e5f8-0ccc-4318-8914-4a382d704d69",
   "metadata": {},
   "source": [
    "- **Problem Statement:**  \n",
    "  Write a program that counts the vowels (`a, e, i, o, u`) in a string provided by the user."
   ]
  },
  {
   "cell_type": "markdown",
   "id": "052ecc58-67af-421c-96c5-919be3554aaf",
   "metadata": {},
   "source": [
    "- **Starter Code:**\n",
    "  ```python\n",
    "  string = input(\"Enter a string: \")\n",
    "  vowels = \"aeiou\"\n",
    "  count = 0\n",
    "  for char in string:\n",
    "      if char.lower() in vowels:\n",
    "          count += 1\n",
    "  print(f\"Vowels in '{string}': {count}\")"
   ]
  },
  {
   "cell_type": "code",
   "execution_count": null,
   "id": "4f1c7417-dac2-4511-993d-a1c08869a216",
   "metadata": {},
   "outputs": [],
   "source": []
  },
  {
   "cell_type": "code",
   "execution_count": null,
   "id": "133f3518-1905-40c2-b678-fc3b7c242a49",
   "metadata": {},
   "outputs": [],
   "source": []
  },
  {
   "cell_type": "markdown",
   "id": "bd309dd8-e637-4878-bc98-4a6e9e6004b6",
   "metadata": {},
   "source": [
    "- **Hint:** Loop through the string and check each character against the list of vowels."
   ]
  },
  {
   "cell_type": "markdown",
   "id": "176400a9-d8cb-4825-995d-6dbb8e946d5e",
   "metadata": {},
   "source": [
    "- **Expected Output:**\n",
    "- If the user inputs `\"hello\"`:\n",
    "  ```\n",
    "  Enter a string: hello\n",
    "  Vowels in 'hello': 2\n",
    "  ```\n",
    "\n",
    "- If the user inputs `\"Python programming\"`:\n",
    "  ```\n",
    "  Enter a string: Python programming\n",
    "  Vowels in 'Python programming': 4\n",
    "  ```\n",
    "\n",
    "- If the user inputs `\"aeiou\"`:\n",
    "  ```\n",
    "  Enter a string: aeiou\n",
    "  Vowels in 'aeiou': 5\n",
    "  ```\n"
   ]
  },
  {
   "cell_type": "markdown",
   "id": "b9f581bf-97bd-4703-9038-7b3245e930a4",
   "metadata": {},
   "source": [
    "*******************************************************************************************"
   ]
  },
  {
   "cell_type": "markdown",
   "id": "76db1f92-0109-4fd0-a45d-73b0dc85131d",
   "metadata": {},
   "source": [
    "### **Problem 10: Reverse a String**"
   ]
  },
  {
   "cell_type": "markdown",
   "id": "b5db97d8-e4a4-4a40-bbe4-4ffa41f6c898",
   "metadata": {},
   "source": [
    "**Scenario:** Reverse a string entered by the user."
   ]
  },
  {
   "cell_type": "markdown",
   "id": "8c81e272-cae9-4a6d-817a-5379eac32455",
   "metadata": {},
   "source": [
    "- **Problem Statement:**  \n",
    "  Write a program that takes a string input from the user and reverses it."
   ]
  },
  {
   "cell_type": "markdown",
   "id": "75535ebf-a9da-426e-a8c7-9055efe2bea7",
   "metadata": {},
   "source": [
    "- **Starter Code:**\n",
    "  ```python\n",
    "  string = input(\"Enter a string: \")\n",
    "  reversed_string = string[::-1]\n",
    "  print(f\"The reversed string is: {reversed_string}\")"
   ]
  },
  {
   "cell_type": "code",
   "execution_count": null,
   "id": "1c66b77c-d7ef-4a4b-b5e9-a6e0ff6ef0ee",
   "metadata": {},
   "outputs": [],
   "source": []
  },
  {
   "cell_type": "code",
   "execution_count": null,
   "id": "97aef124-2b2b-4864-a332-9d3835f8292e",
   "metadata": {},
   "outputs": [],
   "source": []
  },
  {
   "cell_type": "markdown",
   "id": "a9bef70a-c062-4ac9-b771-bfacfc53ec09",
   "metadata": {},
   "source": [
    "- **Hint:** Use string slicing to reverse the string."
   ]
  },
  {
   "cell_type": "markdown",
   "id": "e95d3700-977f-4884-84f4-d9acb425327c",
   "metadata": {},
   "source": [
    "- **Expected Output:**\n",
    "  ```\n",
    "  Enter a string: Python\n",
    "  The reversed string is: nohtyP"
   ]
  },
  {
   "cell_type": "markdown",
   "id": "73ce6144-6363-4f2a-83cd-14190456f24e",
   "metadata": {},
   "source": [
    "*******************************************************************************************"
   ]
  },
  {
   "cell_type": "markdown",
   "id": "3b088241-c7d8-4869-9824-5f10112eb387",
   "metadata": {},
   "source": [
    "### **Solutions: Python Basics**  "
   ]
  },
  {
   "cell_type": "markdown",
   "id": "fbf62128-4b76-4d4b-86f4-3dd2394ca3c1",
   "metadata": {},
   "source": [
    "1. name = input(\"Enter your name: \")\n",
    "  print(\"Hello, \" + name + \"! Welcome to Python!\")"
   ]
  },
  {
   "cell_type": "markdown",
   "id": "4487fa01-279d-4387-bdae-76a26d1501b5",
   "metadata": {},
   "source": [
    "2.   num1 = float(input(\"Enter the first number: \"))\n",
    "  num2 = float(input(\"Enter the second number: \"))\n",
    "  print(\"Sum: \", num1 + num2)\n",
    "  print(\"Difference: \", num1 - num2)\n",
    "  print(\"Product: \", num1 * num2)\n",
    "  print(\"Quotient: \", num1 / num2)"
   ]
  },
  {
   "cell_type": "markdown",
   "id": "ca8300ea-5f49-4c37-a588-fb3c92515e6a",
   "metadata": {},
   "source": [
    "3.   num = int(input(\"Enter a number: \"))\n",
    "  if num % 2 == 0:\n",
    "      print(\"Even\")\n",
    "  else:\n",
    "      print(\"Odd\")"
   ]
  },
  {
   "cell_type": "markdown",
   "id": "a59f7c27-c77a-4ffe-a0d9-820bee64ead9",
   "metadata": {},
   "source": [
    "4.  celsius = float(input(\"Enter temperature in Celsius: \"))\n",
    "  fahrenheit = (celsius * 9/5) + 32\n",
    "  print(f\"{celsius}°C is equal to {fahrenheit}°F\")"
   ]
  },
  {
   "cell_type": "markdown",
   "id": "c76429f0-41b4-41cc-b43f-6b940b2bf059",
   "metadata": {},
   "source": [
    "5.  length = float(input(\"Enter the length of the rectangle: \"))\n",
    "  width = float(input(\"Enter the width of the rectangle: \"))\n",
    "  area = length * width\n",
    "  print(f\"The area of the rectangle is {area}\")"
   ]
  },
  {
   "cell_type": "markdown",
   "id": "af6ee6c0-71a7-468f-84f1-523b43a72f65",
   "metadata": {},
   "source": [
    "6.   N = int(input(\"Enter a number: \"))\n",
    "  sum_of_numbers = sum(range(1, N + 1))\n",
    "  print(f\"The sum of numbers from 1 to {N} is {sum_of_numbers}\")"
   ]
  },
  {
   "cell_type": "markdown",
   "id": "ef4c7ef9-4e66-4d85-8257-eb00a28cdadf",
   "metadata": {},
   "source": [
    "7.   num1 = float(input(\"Enter the first number: \"))\n",
    "  num2 = float(input(\"Enter the second number: \"))\n",
    "  operation = input(\"Choose an operation (+, -, *, /): \")\n",
    "  \n",
    "  if operation == \"+\":\n",
    "      print(f\"Result: {num1 + num2}\")\n",
    "  elif operation == \"-\":\n",
    "      print(f\"Result: {num1 - num2}\")\n",
    "  elif operation == \"*\":\n",
    "      print(f\"Result: {num1 * num2}\")\n",
    "  elif operation == \"/\":\n",
    "      print(f\"Result: {num1 / num2}\")\n",
    "  else:\n",
    "      print(\"Invalid operation\")"
   ]
  },
  {
   "cell_type": "markdown",
   "id": "027b7f2e-5d98-4808-b151-839c2b590514",
   "metadata": {},
   "source": [
    "8.   year = int(input(\"Enter a year: \"))\n",
    "  if (year % 4 == 0 and year % 100 != 0) or (year % 400 == 0):\n",
    "      print(\"Leap year\")\n",
    "  else:\n",
    "      print(\"Not a leap year\")"
   ]
  },
  {
   "cell_type": "markdown",
   "id": "79353382-c6a0-4714-af3a-152998e0d6ab",
   "metadata": {},
   "source": [
    "9. \n",
    "string = input(\"Enter a string: \")  # Taking input from the user\n",
    "vowels = \"aeiou\"  # Defining the vowels\n",
    "count = 0  # Initializing the count variable\n",
    "\n",
    "\n",
    "for char in string:\n",
    "    if char.lower() in vowels:  # Checking if the character is a vowel\n",
    "        count += 1  # Incrementing count if it's a vowel\n",
    "\n",
    "\n",
    "print(f\"Vowels in '{string}': {count}\")"
   ]
  },
  {
   "cell_type": "markdown",
   "id": "1debfba8-d88e-45da-9e12-bd7dad4d87c1",
   "metadata": {},
   "source": [
    "10.   string = input(\"Enter a string: \")\n",
    "  reversed_string = string[::-1]\n",
    "  print(f\"The reversed string is: {reversed_string}\")"
   ]
  }
 ],
 "metadata": {
  "kernelspec": {
   "display_name": "Python 3 (ipykernel)",
   "language": "python",
   "name": "python3"
  },
  "language_info": {
   "codemirror_mode": {
    "name": "ipython",
    "version": 3
   },
   "file_extension": ".py",
   "mimetype": "text/x-python",
   "name": "python",
   "nbconvert_exporter": "python",
   "pygments_lexer": "ipython3",
   "version": "3.13.0"
  }
 },
 "nbformat": 4,
 "nbformat_minor": 5
}
